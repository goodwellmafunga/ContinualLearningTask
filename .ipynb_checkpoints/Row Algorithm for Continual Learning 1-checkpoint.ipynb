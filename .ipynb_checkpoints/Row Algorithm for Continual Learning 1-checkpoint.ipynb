{
 "cells": [
  {
   "cell_type": "code",
   "execution_count": 1,
   "id": "424cce5c-a3a9-402e-ae9c-0870bb634c92",
   "metadata": {},
   "outputs": [],
   "source": [
    "import torch\n",
    "import torch.nn as nn\n",
    "import torch.optim as optim\n",
    "from torchvision import datasets, transforms\n",
    "from torch.utils.data import DataLoader, Subset\n",
    "import numpy as np\n",
    "import matplotlib.pyplot as plt"
   ]
  },
  {
   "cell_type": "code",
   "execution_count": 2,
   "id": "0dd76055-fa44-47b4-b4ac-8747a7b4180c",
   "metadata": {},
   "outputs": [],
   "source": [
    "class SimpleCNN(nn.Module):\n",
    "    def __init__(self, num_classes):\n",
    "        super(SimpleCNN, self).__init__()\n",
    "        self.conv1 = nn.Conv2d(3, 32, kernel_size=3, padding=1)\n",
    "        self.conv2 = nn.Conv2d(32, 64, kernel_size=3, padding=1)\n",
    "        self.fc1 = nn.Linear(64 * 8 * 8, 128)\n",
    "        self.fc2 = nn.Linear(128, num_classes)\n",
    "\n",
    "    def forward(self, x):\n",
    "        x = torch.relu(self.conv1(x))\n",
    "        x = nn.MaxPool2d(2)(x)\n",
    "        x = torch.relu(self.conv2(x))\n",
    "        x = nn.MaxPool2d(2)(x)\n",
    "        x = x.view(x.size(0), -1)\n",
    "        x = torch.relu(self.fc1(x))\n",
    "        x = self.fc2(x)\n",
    "        return x"
   ]
  },
  {
   "cell_type": "code",
   "execution_count": 4,
   "id": "37691867-8b19-4c81-b659-3fb3ba020d7e",
   "metadata": {},
   "outputs": [
    {
     "name": "stdout",
     "output_type": "stream",
     "text": [
      "Files already downloaded and verified\n",
      "Files already downloaded and verified\n",
      "Data preparation complete.\n"
     ]
    }
   ],
   "source": [
    "\n",
    "\n",
    "# Define transformations\n",
    "transform = transforms.Compose([\n",
    "    transforms.ToTensor(),\n",
    "    transforms.Normalize(mean=[0.5, 0.5, 0.5], std=[0.5, 0.5, 0.5])  # Normalize for RGB\n",
    "])\n",
    "\n",
    "train_dataset = datasets.CIFAR10(root='./data', train=True, download=True, transform=transform)\n",
    "test_dataset = datasets.CIFAR10(root='./data', train=False, download=True, transform=transform)\n",
    "\n",
    "# Create DataLoaders\n",
    "batch_size = 32\n",
    "train_loader = DataLoader(train_dataset, batch_size=batch_size, shuffle=True)\n",
    "test_loader = DataLoader(test_dataset, batch_size=batch_size, shuffle=False)\n",
    "\n",
    "print(\"Data preparation complete.\")"
   ]
  },
  {
   "cell_type": "code",
   "execution_count": 5,
   "id": "1ac4056c-1e98-44bc-b715-4985200c4735",
   "metadata": {},
   "outputs": [],
   "source": [
    "# Step 4: Define Training and Evaluation Functions\n",
    "\n",
    "def train_model(model, dataloader, optimizer, criterion, device):\n",
    "    model.train()\n",
    "    for inputs, labels in dataloader:\n",
    "        inputs, labels = inputs.to(device), labels.to(device)  # Move to device\n",
    "        optimizer.zero_grad()\n",
    "        outputs = model(inputs)\n",
    "        loss = criterion(outputs, labels)\n",
    "        loss.backward()\n",
    "        optimizer.step()\n",
    "\n",
    "def evaluate_model(model, dataloader, device):\n",
    "    model.eval()\n",
    "    correct = 0\n",
    "    total = 0\n",
    "    with torch.no_grad():\n",
    "        for inputs, labels in dataloader:\n",
    "            inputs, labels = inputs.to(device), labels.to(device)  # Move to device\n",
    "            outputs = model(inputs)\n",
    "            _, predicted = torch.max(outputs.data, 1)\n",
    "            total += labels.size(0)\n",
    "            correct += (predicted == labels).sum().item()\n",
    "    return correct / total  # Return accuracy"
   ]
  },
  {
   "cell_type": "code",
   "execution_count": 6,
   "id": "f05fa547-a7f1-41fc-8091-71387a76e45d",
   "metadata": {},
   "outputs": [],
   "source": [
    "# Step 5: Set Up the Experiment Function\n",
    "\n",
    "def run_experiment(num_epochs, num_classes_per_task, device):\n",
    "    # Initialize model, optimizer, and loss function\n",
    "    num_tasks = 10 // num_classes_per_task\n",
    "    model = SimpleCNN(num_classes=10).to(device)  # 10 classes for CIFAR-10\n",
    "    optimizer = optim.Adam(model.parameters(), lr=0.001)\n",
    "    criterion = nn.CrossEntropyLoss()\n",
    "\n",
    "    task_accuracies = []\n",
    "\n",
    "    for task in range(num_tasks):\n",
    "        print(f\"Training on task {task + 1}/{num_tasks}\")\n",
    "\n",
    "        # Get indices for the current task classes\n",
    "        task_indices = [i for i in range(len(train_dataset)) if train_dataset.targets[i] in range(task * num_classes_per_task, (task + 1) * num_classes_per_task)]\n",
    "        task_subset = Subset(train_dataset, task_indices)\n",
    "        task_loader = DataLoader(task_subset, batch_size=32, shuffle=True)\n",
    "\n",
    "        # Train the model on the current task\n",
    "        for epoch in range(num_epochs):\n",
    "            train_model(model, task_loader, optimizer, criterion, device)\n",
    "\n",
    "        # Evaluate the model on the test set\n",
    "        accuracy = evaluate_model(model, test_loader, device)\n",
    "        task_accuracies.append(accuracy)\n",
    "        print(f\"Accuracy after task {task + 1}: {accuracy:.4f}\")\n",
    "\n",
    "    return task_accuracies"
   ]
  },
  {
   "cell_type": "code",
   "execution_count": 7,
   "id": "b947a58f-0c11-4db1-9b25-4581549bc49d",
   "metadata": {},
   "outputs": [
    {
     "name": "stdout",
     "output_type": "stream",
     "text": [
      "Training on task 1/5\n",
      "Accuracy after task 1: 0.1880\n",
      "Training on task 2/5\n",
      "Accuracy after task 2: 0.1696\n",
      "Training on task 3/5\n",
      "Accuracy after task 3: 0.1763\n",
      "Training on task 4/5\n",
      "Accuracy after task 4: 0.1004\n",
      "Training on task 5/5\n",
      "Accuracy after task 5: 0.1000\n",
      "Task Accuracies: [0.188, 0.1696, 0.1763, 0.1004, 0.1]\n"
     ]
    }
   ],
   "source": [
    "# Step 6: Execute the Experiment\n",
    "\n",
    "# Set device\n",
    "device = torch.device(\"cuda\" if torch.cuda.is_available() else \"cpu\")\n",
    "\n",
    "# Parameters\n",
    "num_epochs = 10\n",
    "num_classes_per_task = 2  # Adjust this based on how you want to structure the tasks\n",
    "\n",
    "# Run the experiment\n",
    "accuracies = run_experiment(num_epochs, num_classes_per_task, device)\n",
    "\n",
    "# Print the results\n",
    "print(\"Task Accuracies:\", accuracies)"
   ]
  },
  {
   "cell_type": "code",
   "execution_count": 8,
   "id": "f5b58c0b-aa62-4a77-94b0-5be982942fbe",
   "metadata": {},
   "outputs": [
    {
     "data": {
      "image/png": "[encoded data removed]",
      "text/plain": [
       "<Figure size 1000x500 with 1 Axes>"
      ]
     },
     "metadata": {},
     "output_type": "display_data"
    }
   ],
   "source": [
    "# Step 7: Visualize the Results\n",
    "\n",
    "def plot_accuracies(accuracies):\n",
    "    plt.figure(figsize=(10, 5))\n",
    "    plt.plot(range(1, len(accuracies) + 1), accuracies, marker='o')\n",
    "    plt.title('Task Accuracies Over Time')\n",
    "    plt.xlabel('Task Number')\n",
    "    plt.ylabel('Accuracy')\n",
    "    plt.xticks(range(1, len(accuracies) + 1))\n",
    "    plt.ylim(0, 1)  # Accuracy range from 0 to 1\n",
    "    plt.grid()\n",
    "    plt.show()\n",
    "\n",
    "# Call the function to plot the accuracies\n",
    "plot_accuracies(accuracies)"
   ]
  },
  {
   "cell_type": "code",
   "execution_count": null,
   "id": "c4d3a64c-4a60-4be9-b488-21ddecf64eb8",
   "metadata": {},
   "outputs": [],
   "source": []
  }
 ],
 "metadata": {
  "kernelspec": {
   "display_name": "Python 3 (ipykernel)",
   "language": "python",
   "name": "python3"
  },
  "language_info": {
   "codemirror_mode": {
    "name": "ipython",
    "version": 3
   },
   "file_extension": ".py",
   "mimetype": "text/x-python",
   "name": "python",
   "nbconvert_exporter": "python",
   "pygments_lexer": "ipython3",
   "version": "3.12.4"
  }
 },
 "nbformat": 4,
 "nbformat_minor": 5
}
